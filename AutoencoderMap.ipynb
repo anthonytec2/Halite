{
 "cells": [
  {
   "cell_type": "code",
   "execution_count": 2,
   "metadata": {},
   "outputs": [],
   "source": [
    "import numpy as np\n",
    "import matplotlib.pyplot as plt\n",
    "import torch\n",
    "import torch.nn as nn\n",
    "from torch.utils.data import *\n",
    "import wandb"
   ]
  },
  {
   "cell_type": "code",
   "execution_count": 3,
   "metadata": {},
   "outputs": [],
   "source": [
    "class model_encoder(nn.Module):\n",
    "    def __init__(self):\n",
    "        super(model_encoder, self).__init__()\n",
    "        self.encoder = nn.Sequential(\n",
    "            nn.Conv2d(1, 8, 5, stride=2, padding=1),\n",
    "            nn.ReLU(True),\n",
    "            nn.BatchNorm2d(8),\n",
    "            nn.Conv2d(8, 8, 1, stride=1, padding=0),\n",
    "            nn.ReLU(True),\n",
    "            nn.BatchNorm2d(8),\n",
    "            nn.Conv2d(8, 16, 5, stride=1, padding=0),\n",
    "            nn.ReLU(True),\n",
    "            nn.BatchNorm2d(16),\n",
    "            nn.Conv2d(16, 16, 1, stride=1, padding=0),\n",
    "            nn.ReLU(True),\n",
    "            nn.BatchNorm2d(16),\n",
    "            nn.Conv2d(16, 32, 4, stride=1, padding=0),\n",
    "            nn.ReLU(True),\n",
    "            nn.BatchNorm2d(32),\n",
    "            nn.Conv2d(32, 32, 1, stride=1, padding=0),\n",
    "            nn.ReLU(True),\n",
    "            nn.BatchNorm2d(32),\n",
    "        )\n",
    " \n",
    "        self.decoder = nn.Sequential(\n",
    "            nn.ConvTranspose2d(32, 16, 5, stride=3, padding=1),\n",
    "            nn.ReLU(True),\n",
    "            nn.BatchNorm2d(16),\n",
    "            nn.ConvTranspose2d(16, 16, 1, stride=1, padding=0),\n",
    "            nn.ReLU(True),\n",
    "            nn.BatchNorm2d(16),\n",
    "            nn.ConvTranspose2d(16, 8, 5, stride=1, padding=1),\n",
    "            nn.ReLU(True),\n",
    "            nn.BatchNorm2d(8),\n",
    "            nn.ConvTranspose2d(8, 8, 1, stride=1, padding=0),\n",
    "            nn.ReLU(True),\n",
    "            nn.BatchNorm2d(8),\n",
    "            nn.ConvTranspose2d(8, 4, 5, stride=1, padding=0),\n",
    "            nn.ReLU(True),\n",
    "            nn.BatchNorm2d(4),\n",
    "            nn.ConvTranspose2d(4, 4, 1, stride=1, padding=0),\n",
    "            nn.ReLU(True),\n",
    "            nn.BatchNorm2d(4),\n",
    "            nn.ConvTranspose2d(4, 1, 3, stride=1, padding=0),\n",
    "        )\n",
    "        \n",
    "    def forward(self, x):\n",
    "        x=self.encoder(x)\n",
    "        x=self.decoder(x)\n",
    "        return x"
   ]
  },
  {
   "cell_type": "code",
   "execution_count": 4,
   "metadata": {},
   "outputs": [],
   "source": [
    "batch_size = 128\n",
    "board=np.load('board.npy')/1000\n",
    "board=torch.tensor(board, dtype=torch.float32)\n",
    "board=torch.reshape(board, (board.shape[0],1, 32,32))\n",
    "board=TensorDataset(board) \n",
    "train_dataset, test_dataset = random_split(board, [650000, 40288])\n",
    "dataset=DataLoader(board,  batch_size=batch_size, shuffle=True, pin_memory=True)"
   ]
  },
  {
   "cell_type": "code",
   "execution_count": 5,
   "metadata": {},
   "outputs": [],
   "source": [
    "num_epochs = 4\n",
    "learning_rate = 1e-3\n",
    "momentum = 0.9\n",
    "device = torch.device(\"cuda:0\" if torch.cuda.is_available() else \"cpu\")\n",
    "model=model_encoder().to(device)\n",
    "optimizer=torch.optim.SGD(model.parameters(),lr=learning_rate)#, momentum=momentum)\n",
    "#optimizer=torch.optim.Adam(model.parameters(),lr=learning_rate)\n",
    "loss_fn=torch.nn.BCEWithLogitsLoss()"
   ]
  },
  {
   "cell_type": "code",
   "execution_count": 6,
   "metadata": {},
   "outputs": [],
   "source": [
    "sched=torch.optim.lr_scheduler.CosineAnnealingLR(optimizer, 5078,.05,-1)"
   ]
  },
  {
   "cell_type": "code",
   "execution_count": null,
   "metadata": {},
   "outputs": [
    {
     "name": "stdout",
     "output_type": "stream",
     "text": [
      "W&B Run: https://app.wandb.ai/None/halite/runs/t0efjext\n",
      "Call `%%wandb` in the cell containing your training loop to display live results.\n",
      "1 of 4\n",
      "Resuming run: https://app.wandb.ai/arb426/halite/runs/t0efjext\n"
     ]
    }
   ],
   "source": [
    "wandb.init(project=\"halite\")\n",
    "wandb.watch(model)\n",
    "model.train()\n",
    "j=0\n",
    "for i in range(num_epochs):\n",
    "    print(i+1, \"of\", num_epochs)\n",
    "    for data in dataset:\n",
    "        data=data[0].to(device)\n",
    "        res=model(data)\n",
    "        optimizer.zero_grad()\n",
    "        loss=loss_fn(res,data)\n",
    "        loss.backward()\n",
    "        optimizer.step()\n",
    "        sched.step()\n",
    "        for g in optimizer.param_groups:\n",
    "            lr_res=g['lr']\n",
    "        wandb.log({\"Loss\": loss, \"LR\":lr_res })\n",
    "        j+=1"
   ]
  },
  {
   "cell_type": "code",
   "execution_count": null,
   "metadata": {},
   "outputs": [],
   "source": [
    "fig=plt.figure(figsize=(18, 16), dpi= 80, facecolor='w', edgecolor='k')\n",
    "for i in range(5):\n",
    "    j=np.random.randint(0,40288)\n",
    "    img=model(test_dataset[j][0].unsqueeze(1).to(device))\n",
    "    plt.subplot(5,2,2*i+1)\n",
    "    plt.imshow(test_dataset[j][0].squeeze(0).cpu().numpy())\n",
    "    plt.subplot(5,2,2*i+2)\n",
    "    plt.imshow(torch.reshape(img,(32,32)).detach().cpu().numpy())\n",
    "plt.tight_layout()"
   ]
  },
  {
   "cell_type": "code",
   "execution_count": null,
   "metadata": {},
   "outputs": [],
   "source": [
    "len(test_dataset)"
   ]
  },
  {
   "cell_type": "code",
   "execution_count": null,
   "metadata": {},
   "outputs": [],
   "source": [
    "def learning_rate_finder():\n",
    "    loss_res=[]\n",
    "    lr_ls=[]\n",
    "    lr=1e-5\n",
    "    j=0\n",
    "    for g in optimizer.param_groups:\n",
    "            g['lr'] = lr\n",
    "    for data in dataset:\n",
    "        data=data[0].to(device)\n",
    "        res=model(data)\n",
    "        optimizer.zero_grad()\n",
    "        loss=loss_fn(res,data)\n",
    "        loss.backward()\n",
    "        optimizer.step()\n",
    "        loss_res.append(loss.cpu().detach().numpy())\n",
    "        lr_ls.append(lr)\n",
    "        lr= 1e-5 * (1.011 ** j)\n",
    "        for g in optimizer.param_groups:\n",
    "            g['lr'] = lr\n",
    "        j+=1\n",
    "        if loss>np.min(loss_res)*4:\n",
    "            return lr_ls,loss_res"
   ]
  },
  {
   "cell_type": "code",
   "execution_count": null,
   "metadata": {},
   "outputs": [],
   "source": [
    "lr_ls,res=learning_rate_finder()\n",
    "plt.semilogx(lr_ls[:-1],res[:-1])\n",
    "plt.xlabel('Learning Rate')\n",
    "plt.ylabel('Loss')\n",
    "plt.title('Learning Rate Finder')\n",
    "print(np.argmax(res[:-1]))"
   ]
  },
  {
   "cell_type": "code",
   "execution_count": null,
   "metadata": {},
   "outputs": [],
   "source": []
  }
 ],
 "metadata": {
  "kernelspec": {
   "display_name": "Python 3",
   "language": "python",
   "name": "python3"
  },
  "language_info": {
   "codemirror_mode": {
    "name": "ipython",
    "version": 3
   },
   "file_extension": ".py",
   "mimetype": "text/x-python",
   "name": "python",
   "nbconvert_exporter": "python",
   "pygments_lexer": "ipython3",
   "version": "3.7.0"
  }
 },
 "nbformat": 4,
 "nbformat_minor": 2
}
