{
 "cells": [
  {
   "cell_type": "code",
   "execution_count": 152,
   "metadata": {},
   "outputs": [],
   "source": [
    "import numpy as np\n",
    "import matplotlib.pyplot as plt\n",
    "import torch\n",
    "import torch.nn as nn\n",
    "from torch.utils.data import *\n",
    "import wandb\n",
    "%matplotlib inline"
   ]
  },
  {
   "cell_type": "code",
   "execution_count": 160,
   "metadata": {},
   "outputs": [],
   "source": [
    "class model_encoder(nn.Module):\n",
    "    def __init__(self):\n",
    "        super(model_encoder, self).__init__()\n",
    "        self.encoder = nn.Sequential(\n",
    "            nn.Conv2d(1, 8, 5, stride=2, padding=1),\n",
    "            nn.ReLU(True),\n",
    "            nn.BatchNorm2d(8),\n",
    "            nn.Conv2d(8, 8, 1, stride=1, padding=0),\n",
    "            nn.ReLU(True),\n",
    "            nn.BatchNorm2d(8),\n",
    "            nn.Conv2d(8, 16, 5, stride=1, padding=0),\n",
    "            nn.ReLU(True),\n",
    "            nn.BatchNorm2d(16),\n",
    "            nn.Conv2d(16, 16, 1, stride=1, padding=0),\n",
    "            nn.ReLU(True),\n",
    "            nn.BatchNorm2d(16),\n",
    "            nn.Conv2d(16, 32, 4, stride=1, padding=0),\n",
    "            nn.ReLU(True),\n",
    "            nn.BatchNorm2d(32),\n",
    "            nn.Conv2d(32, 32, 1, stride=1, padding=0),\n",
    "            nn.ReLU(True),\n",
    "            nn.BatchNorm2d(32),\n",
    "        )\n",
    " \n",
    "        self.decoder = nn.Sequential(\n",
    "            nn.ConvTranspose2d(32, 16, 3, stride=2, padding=1),\n",
    "            nn.ReLU(True),\n",
    "            nn.BatchNorm2d(16),\n",
    "            nn.ConvTranspose2d(16, 16, 1, stride=1, padding=0),\n",
    "            nn.ReLU(True),\n",
    "            nn.BatchNorm2d(16),\n",
    "            nn.ConvTranspose2d(16, 8, 5, stride=2, padding=3),\n",
    "            nn.ReLU(True),\n",
    "            nn.BatchNorm2d(8),\n",
    "            nn.ConvTranspose2d(8, 8, 1, stride=1, padding=0),\n",
    "            nn.ReLU(True),\n",
    "            nn.BatchNorm2d(8),\n",
    "            nn.ConvTranspose2d(8, 4, 4, stride=1, padding=0),\n",
    "            nn.ReLU(True),\n",
    "            nn.BatchNorm2d(4),\n",
    "            nn.ConvTranspose2d(4, 4, 1, stride=1, padding=0),\n",
    "            nn.ReLU(True),\n",
    "            nn.BatchNorm2d(4),\n",
    "            nn.ConvTranspose2d(4, 1, 3, stride=1, padding=0),\n",
    "        )\n",
    "        \n",
    "    def forward(self, x):\n",
    "        x=self.encoder(x)\n",
    "        x=self.decoder(x)\n",
    "        return x"
   ]
  },
  {
   "cell_type": "code",
   "execution_count": 161,
   "metadata": {},
   "outputs": [],
   "source": [
    "batch_size = 128\n",
    "board=np.load('board.npy')/1000\n",
    "board=torch.tensor(board, dtype=torch.float32)\n",
    "board=torch.reshape(board, (board.shape[0],1, 32,32))\n",
    "board=TensorDataset(board) \n",
    "train_dataset, test_dataset = random_split(board, [650000, 40288])\n",
    "dataset=DataLoader(board,  batch_size=batch_size, shuffle=True, pin_memory=True)"
   ]
  },
  {
   "cell_type": "code",
   "execution_count": 162,
   "metadata": {},
   "outputs": [],
   "source": [
    "num_epochs = 15\n",
    "learning_rate = 1e-3\n",
    "momentum = 0.9\n",
    "device = torch.device(\"cuda:0\" if torch.cuda.is_available() else \"cpu\")\n",
    "model=model_encoder().to(device)\n",
    "optimizer=torch.optim.SGD(model.parameters(),lr=learning_rate, momentum=momentum)\n",
    "#optimizer=torch.optim.Adam(model.parameters(),lr=learning_rate)\n",
    "loss_fn=torch.nn.BCEWithLogitsLoss()"
   ]
  },
  {
   "cell_type": "code",
   "execution_count": 163,
   "metadata": {},
   "outputs": [
    {
     "name": "stdout",
     "output_type": "stream",
     "text": [
      "W&B Run: https://app.wandb.ai/arb426/halite/runs/txhyzi6c\n",
      "Call `%%wandb` in the cell containing your training loop to display live results.\n"
     ]
    },
    {
     "data": {
      "text/plain": [
       "model_encoder(\n",
       "  (encoder): Sequential(\n",
       "    (0): Conv2d(1, 8, kernel_size=(3, 3), stride=(2, 2), padding=(1, 1))\n",
       "    (1): ReLU(inplace)\n",
       "    (2): BatchNorm2d(8, eps=1e-05, momentum=0.1, affine=True, track_running_stats=True)\n",
       "    (3): MaxPool2d(kernel_size=2, stride=2, padding=0, dilation=1, ceil_mode=False)\n",
       "    (4): Conv2d(8, 8, kernel_size=(1, 1), stride=(1, 1))\n",
       "    (5): ReLU(inplace)\n",
       "    (6): BatchNorm2d(8, eps=1e-05, momentum=0.1, affine=True, track_running_stats=True)\n",
       "    (7): Conv2d(8, 16, kernel_size=(3, 3), stride=(1, 1))\n",
       "    (8): ReLU(inplace)\n",
       "    (9): BatchNorm2d(16, eps=1e-05, momentum=0.1, affine=True, track_running_stats=True)\n",
       "    (10): Conv2d(16, 16, kernel_size=(1, 1), stride=(1, 1))\n",
       "    (11): ReLU(inplace)\n",
       "    (12): BatchNorm2d(16, eps=1e-05, momentum=0.1, affine=True, track_running_stats=True)\n",
       "    (13): Conv2d(16, 32, kernel_size=(2, 2), stride=(1, 1))\n",
       "    (14): ReLU(inplace)\n",
       "    (15): BatchNorm2d(32, eps=1e-05, momentum=0.1, affine=True, track_running_stats=True)\n",
       "    (16): Conv2d(32, 32, kernel_size=(1, 1), stride=(1, 1))\n",
       "    (17): ReLU(inplace)\n",
       "    (18): BatchNorm2d(32, eps=1e-05, momentum=0.1, affine=True, track_running_stats=True)\n",
       "  )\n",
       "  (decoder): Sequential(\n",
       "    (0): ConvTranspose2d(32, 16, kernel_size=(5, 5), stride=(3, 3), padding=(1, 1))\n",
       "    (1): ReLU(inplace)\n",
       "    (2): BatchNorm2d(16, eps=1e-05, momentum=0.1, affine=True, track_running_stats=True)\n",
       "    (3): ConvTranspose2d(16, 16, kernel_size=(1, 1), stride=(1, 1))\n",
       "    (4): ReLU(inplace)\n",
       "    (5): BatchNorm2d(16, eps=1e-05, momentum=0.1, affine=True, track_running_stats=True)\n",
       "    (6): ConvTranspose2d(16, 8, kernel_size=(5, 5), stride=(2, 2), padding=(3, 3))\n",
       "    (7): ReLU(inplace)\n",
       "    (8): BatchNorm2d(8, eps=1e-05, momentum=0.1, affine=True, track_running_stats=True)\n",
       "    (9): ConvTranspose2d(8, 8, kernel_size=(1, 1), stride=(1, 1))\n",
       "    (10): ReLU(inplace)\n",
       "    (11): BatchNorm2d(8, eps=1e-05, momentum=0.1, affine=True, track_running_stats=True)\n",
       "    (12): ConvTranspose2d(8, 4, kernel_size=(4, 4), stride=(1, 1))\n",
       "    (13): ReLU(inplace)\n",
       "    (14): BatchNorm2d(4, eps=1e-05, momentum=0.1, affine=True, track_running_stats=True)\n",
       "    (15): ConvTranspose2d(4, 4, kernel_size=(1, 1), stride=(1, 1))\n",
       "    (16): ReLU(inplace)\n",
       "    (17): BatchNorm2d(4, eps=1e-05, momentum=0.1, affine=True, track_running_stats=True)\n",
       "    (18): ConvTranspose2d(4, 1, kernel_size=(3, 3), stride=(1, 1))\n",
       "  )\n",
       ")"
      ]
     },
     "execution_count": 163,
     "metadata": {},
     "output_type": "execute_result"
    }
   ],
   "source": [
    "wandb.init(project=\"halite\")\n",
    "wandb.watch(model)\n",
    "model.train()"
   ]
  },
  {
   "cell_type": "code",
   "execution_count": null,
   "metadata": {},
   "outputs": [
    {
     "name": "stdout",
     "output_type": "stream",
     "text": [
      "1 of 15\n",
      "Resuming run: https://app.wandb.ai/arb426/halite/runs/txhyzi6c\n",
      "2 of 15\n",
      "3 of 15\n",
      "4 of 15\n",
      "5 of 15\n",
      "6 of 15\n",
      "7 of 15\n",
      "8 of 15\n",
      "9 of 15\n",
      "10 of 15\n",
      "11 of 15\n"
     ]
    }
   ],
   "source": [
    "j=0\n",
    "for i in range(num_epochs):\n",
    "    print(i+1, \"of\", num_epochs)\n",
    "    for data in dataset:\n",
    "        data=data[0].to(device)\n",
    "        res=model(data)\n",
    "        optimizer.zero_grad()\n",
    "        loss=loss_fn(res,data)\n",
    "        loss.backward()\n",
    "        optimizer.step()\n",
    "        wandb.log({\"Loss\": loss})\n",
    "        j+=1"
   ]
  },
  {
   "cell_type": "code",
   "execution_count": null,
   "metadata": {},
   "outputs": [],
   "source": [
    "fig=plt.figure(figsize=(18, 16), dpi= 80, facecolor='w', edgecolor='k')\n",
    "for i in range(5):\n",
    "    j=np.random.randint(0,240000)\n",
    "    img=model(test_dataset[j][0].unsqueeze(1))\n",
    "    plt.subplot(5,2,2*i+1)\n",
    "    plt.imshow(test_dataset[j][0].squeeze(0).numpy())\n",
    "    plt.subplot(5,2,2*i+2)\n",
    "    plt.imshow(torch.reshape(img,(32,32)).detach().numpy())\n",
    "plt.tight_layout()"
   ]
  },
  {
   "cell_type": "code",
   "execution_count": null,
   "metadata": {},
   "outputs": [],
   "source": []
  }
 ],
 "metadata": {
  "kernelspec": {
   "display_name": "Python 3",
   "language": "python",
   "name": "python3"
  },
  "language_info": {
   "codemirror_mode": {
    "name": "ipython",
    "version": 3
   },
   "file_extension": ".py",
   "mimetype": "text/x-python",
   "name": "python",
   "nbconvert_exporter": "python",
   "pygments_lexer": "ipython3",
   "version": "3.7.0"
  }
 },
 "nbformat": 4,
 "nbformat_minor": 2
}
