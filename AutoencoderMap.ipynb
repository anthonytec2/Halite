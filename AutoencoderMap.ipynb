{
 "cells": [
  {
   "cell_type": "code",
   "execution_count": 4,
   "metadata": {},
   "outputs": [
    {
     "name": "stdout",
     "output_type": "stream",
     "text": [
      "W&B Run: https://app.wandb.ai/arb426/halite/runs/oum405qa\n",
      "Call `%%wandb` in the cell containing your training loop to display live results.\n"
     ]
    }
   ],
   "source": [
    "import numpy as np\n",
    "import matplotlib.pyplot as plt\n",
    "import seaborn as sns\n",
    "import torch\n",
    "import torch.nn as nn\n",
    "from torch.utils.data import *\n",
    "import wandb\n",
    "wandb.init(project=\"halite\")\n",
    "%matplotlib inline"
   ]
  },
  {
   "cell_type": "code",
   "execution_count": 5,
   "metadata": {},
   "outputs": [],
   "source": [
    "class model_encoder(nn.Module):\n",
    "    def __init__(self):\n",
    "        super(model_encoder, self).__init__()\n",
    "        self.encoder = nn.Sequential(\n",
    "            nn.Conv2d(1, 8, 3, stride=2, padding=1),\n",
    "            nn.MaxPool2d(2, stride=2),\n",
    "            nn.ReLU(True),\n",
    "            nn.Conv2d(8, 1, 5, stride=1, padding=1),\n",
    "            nn.MaxPool2d(2, stride=1),\n",
    "            nn.ReLU(True),\n",
    "        )\n",
    " \n",
    "        self.decoder = nn.Sequential(\n",
    "            nn.ConvTranspose2d(1, 8, 2, stride=3, padding=3),\n",
    "            nn.ReLU(True),\n",
    "            nn.ConvTranspose2d(8, 4, 2, stride=2, padding=1),\n",
    "            nn.ReLU(True),\n",
    "            nn.ConvTranspose2d(4, 1, 6, stride=2, padding=0),\n",
    "        )\n",
    "        \n",
    "    def forward(self, x):\n",
    "        x=self.encoder(x)\n",
    "        x=self.decoder(x)\n",
    "        return x"
   ]
  },
  {
   "cell_type": "code",
   "execution_count": null,
   "metadata": {},
   "outputs": [],
   "source": [
    "batch_size = 256\n",
    "board=np.load('board.npy')/1000\n",
    "board=torch.tensor(board, dtype=torch.float32)\n",
    "board=torch.reshape(board, (board.shape[0],1, 32,32))\n",
    "board=TensorDataset(board)\n",
    "train_dataset, test_dataset = random_split(board, [450000, 240288])\n",
    "dataset=DataLoader(board,  batch_size=batch_size, shuffle=True)"
   ]
  },
  {
   "cell_type": "code",
   "execution_count": null,
   "metadata": {},
   "outputs": [],
   "source": [
    "num_epochs = 6\n",
    "learning_rate = 1e-3\n",
    "model=model_encoder()\n",
    "optimizer=torch.optim.Adam(model.parameters(),lr=learning_rate)\n",
    "loss_fn=torch.nn.BCEWithLogitsLoss()\n",
    "wandb.watch(model)\n",
    "model.train()"
   ]
  },
  {
   "cell_type": "code",
   "execution_count": null,
   "metadata": {},
   "outputs": [],
   "source": [
    "j=0\n",
    "for i in range(num_epochs):\n",
    "    for data in dataset:\n",
    "        res=model(data[0])\n",
    "        optimizer.zero_grad()\n",
    "        loss=loss_fn(res,data[0])\n",
    "        loss.backward()\n",
    "        optimizer.step()\n",
    "        wandb.log({\"Loss\": loss})\n",
    "        j+=1"
   ]
  },
  {
   "cell_type": "code",
   "execution_count": null,
   "metadata": {},
   "outputs": [],
   "source": [
    "fig=plt.figure(figsize=(18, 16), dpi= 80, facecolor='w', edgecolor='k')\n",
    "for i in range(5):\n",
    "    j=np.random.randint(0,240000)\n",
    "    img=model(test_dataset[j][0].unsqueeze(1))\n",
    "    plt.subplot(5,2,2*i+1)\n",
    "    plt.imshow(test_dataset[j][0].squeeze(0).numpy())\n",
    "    plt.subplot(5,2,2*i+2)\n",
    "    plt.imshow(torch.reshape(img,(32,32)).detach().numpy())\n",
    "plt.tight_layout()"
   ]
  },
  {
   "cell_type": "code",
   "execution_count": null,
   "metadata": {},
   "outputs": [],
   "source": []
  }
 ],
 "metadata": {
  "kernelspec": {
   "display_name": "Python 3",
   "language": "python",
   "name": "python3"
  },
  "language_info": {
   "codemirror_mode": {
    "name": "ipython",
    "version": 3
   },
   "file_extension": ".py",
   "mimetype": "text/x-python",
   "name": "python",
   "nbconvert_exporter": "python",
   "pygments_lexer": "ipython3",
   "version": "3.7.1"
  }
 },
 "nbformat": 4,
 "nbformat_minor": 2
}
