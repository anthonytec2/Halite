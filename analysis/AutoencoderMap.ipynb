{
 "cells": [
  {
   "cell_type": "code",
   "execution_count": null,
   "metadata": {},
   "outputs": [],
   "source": [
    "import numpy as np\n",
    "import matplotlib.pyplot as plt\n",
    "import torch\n",
    "import torch.nn as nn\n",
    "from torch.utils.data import *\n",
    "import wandb\n",
    "%matplotlib inline"
   ]
  },
  {
   "cell_type": "code",
   "execution_count": null,
   "metadata": {},
   "outputs": [],
   "source": [
    "class model_encoder(nn.Module):\n",
    "    def __init__(self):\n",
    "        super(model_encoder, self).__init__()\n",
    "        self.encoder = nn.Sequential(\n",
    "            nn.Conv2d(1, 32, 5, stride=1, padding=2),\n",
    "            nn.ReLU(True),\n",
    "            nn.MaxPool2d(2),\n",
    "            nn.Conv2d(32, 8, 3, stride=1, padding=1),\n",
    "            nn.ReLU(True),\n",
    "            nn.MaxPool2d(2),\n",
    "            nn.Conv2d(8, 1, 3, padding=1),\n",
    "            nn.ReLU(True),\n",
    "            nn.MaxPool2d(2),\n",
    "            \n",
    "        )\n",
    "        self.fc1 = nn.Linear(16, 8)\n",
    "        self.fc2 = nn.Linear(8, 16)\n",
    "        self.decoder = nn.Sequential(\n",
    "            nn.Conv2d(1, 32, 3, stride=1, padding=1),\n",
    "            nn.ReLU(True),\n",
    "            nn.Upsample(scale_factor=2),\n",
    "            nn.Conv2d(32, 16, 3, stride=1, padding=1),\n",
    "            nn.ReLU(True),\n",
    "            nn.Upsample(scale_factor=2),\n",
    "            nn.Conv2d(16, 8, 5, stride=1, padding=2),\n",
    "            nn.ReLU(True),\n",
    "            nn.Upsample(scale_factor=2),\n",
    "            nn.Conv2d(8, 4, 3, stride=1, padding=1),\n",
    "            nn.ReLU(True),\n",
    "            nn.Conv2d(4, 1, 3, stride=1, padding=1),\n",
    "        )\n",
    "        \n",
    "    def forward(self, x):\n",
    "        x=self.encoder(x)\n",
    "        x = x.reshape(x.size(0), -1)\n",
    "        x = self.fc1(x)\n",
    "        x = self.fc2(x)\n",
    "        x = x.reshape(x.size(0), 1,4, 4)\n",
    "        x=self.decoder(x)\n",
    "        #print(x.shape)\n",
    "        return x"
   ]
  },
  {
   "cell_type": "code",
   "execution_count": null,
   "metadata": {},
   "outputs": [],
   "source": [
    "model=model_encoder()"
   ]
  },
  {
   "cell_type": "code",
   "execution_count": null,
   "metadata": {},
   "outputs": [],
   "source": [
    "model(test_dataset[0][0].unsqueeze(1))"
   ]
  },
  {
   "cell_type": "code",
   "execution_count": null,
   "metadata": {},
   "outputs": [],
   "source": [
    "batch_size = 256\n",
    "board=np.load('board.npy')/1000\n",
    "board=torch.tensor(board, dtype=torch.float32)\n",
    "board=torch.reshape(board, (board.shape[0],1, 32,32))\n",
    "board=TensorDataset(board)\n",
    "train_dataset, test_dataset = random_split(board, [450000, 240288])\n",
    "dataset=DataLoader(board,  batch_size=batch_size, shuffle=True, pin_memory=True)"
   ]
  },
  {
   "cell_type": "code",
   "execution_count": null,
   "metadata": {},
   "outputs": [],
   "source": [
    "num_epochs = 6\n",
    "learning_rate = 1.2e-3\n",
    "device = torch.device(\"cuda:0\" if torch.cuda.is_available() else \"cpu\")\n",
    "model=model_encoder().to(device)\n",
    "optimizer=torch.optim.Adam(model.parameters(),lr=learning_rate)\n",
    "loss_fn=torch.nn.BCEWithLogitsLoss()\n",
    "model.train()"
   ]
  },
  {
   "cell_type": "code",
   "execution_count": null,
   "metadata": {},
   "outputs": [],
   "source": [
    "j=0\n",
    "wandb.init('halite')\n",
    "#sched=torch.optim.lr_scheduler.CosineAnnealingLR(optimizer, 1757,1e-2,-1)\n",
    "for i in range(num_epochs):\n",
    "    for data in dataset:\n",
    "        data=data[0].to(device)\n",
    "        res=model(data)\n",
    "        optimizer.zero_grad()\n",
    "        loss=loss_fn(res,data)\n",
    "        loss.backward()\n",
    "        optimizer.step()\n",
    "        #sched.step()\n",
    "        wandb.log({\"Loss\": loss})\n",
    "        j+=1"
   ]
  },
  {
   "cell_type": "code",
   "execution_count": null,
   "metadata": {},
   "outputs": [],
   "source": [
    "fig=plt.figure(figsize=(18, 16), dpi= 80, facecolor='w', edgecolor='k')\n",
    "for i in range(5):\n",
    "    j=np.random.randint(0,40288)\n",
    "    img=model(test_dataset[j][0].unsqueeze(1).to(device))\n",
    "    plt.subplot(5,2,2*i+1)\n",
    "    plt.imshow(test_dataset[j][0].squeeze(0).cpu().numpy())\n",
    "    plt.subplot(5,2,2*i+2)\n",
    "    plt.imshow(torch.reshape(img,(32,32)).detach().cpu().numpy())\n",
    "plt.tight_layout()"
   ]
  },
  {
   "cell_type": "code",
   "execution_count": null,
   "metadata": {},
   "outputs": [],
   "source": [
    "def learning_rate_finder():\n",
    "    loss_res=[]\n",
    "    lr_ls=[]\n",
    "    lr=1e-5\n",
    "    j=0\n",
    "    for g in optimizer.param_groups:\n",
    "            g['lr'] = lr\n",
    "    for data in dataset:\n",
    "        data=data[0].to(device)\n",
    "        res=model(data)\n",
    "        optimizer.zero_grad()\n",
    "        loss=loss_fn(res,data)\n",
    "        loss.backward()\n",
    "        optimizer.step()\n",
    "        loss_res.append(loss.cpu().detach().numpy())\n",
    "        lr_ls.append(lr)\n",
    "        lr= 1e-5 * (1.011 ** j)\n",
    "        for g in optimizer.param_groups:\n",
    "            g['lr'] = lr\n",
    "        j+=1\n",
    "        if loss>np.min(loss_res)*4:\n",
    "            return lr_ls,loss_res"
   ]
  },
  {
   "cell_type": "code",
   "execution_count": null,
   "metadata": {},
   "outputs": [],
   "source": [
    "lr_ls,res=learning_rate_finder()\n",
    "plt.semilogx(lr_ls[:-2],res[:-2])\n",
    "plt.xlabel('Learning Rate')\n",
    "plt.ylabel('Loss')\n",
    "plt.title('Learning Rate Finder')"
   ]
  }
 ],
 "metadata": {
  "kernelspec": {
   "display_name": "Python 3",
   "language": "python",
   "name": "python3"
  },
  "language_info": {
   "codemirror_mode": {
    "name": "ipython",
    "version": 3
   },
   "file_extension": ".py",
   "mimetype": "text/x-python",
   "name": "python",
   "nbconvert_exporter": "python",
   "pygments_lexer": "ipython3",
   "version": "3.5.3"
  }
 },
 "nbformat": 4,
 "nbformat_minor": 2
}
